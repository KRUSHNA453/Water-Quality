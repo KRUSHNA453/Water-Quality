{
  "cells": [
    {
      "cell_type": "code",
      "execution_count": null,
      "metadata": {
        "id": "n0LU11owX3lK"
      },
      "outputs": [
        {
          "ename": "",
          "evalue": "",
          "output_type": "error",
          "traceback": [
            "\u001b[1;31mFailed to start the Kernel. \n",
            "\u001b[1;31mFileNotFoundError: [Errno 2] No such file or directory: '/content/water_dataX.csv'. \n",
            "\u001b[1;31mView Jupyter <a href='command:jupyter.viewOutput'>log</a> for further details."
          ]
        }
      ],
      "source": [
        "import numpy as np\n",
        "import pandas as pd\n",
        "from sklearn.model_selection import train_test_split\n",
        "from sklearn.linear_model import LinearRegression\n",
        "from sklearn.tree import DecisionTreeRegressor\n",
        "from sklearn.ensemble import RandomForestRegressor\n",
        "from sklearn.svm import SVR\n",
        "from sklearn.metrics import mean_squared_error, mean_absolute_error, r2_score\n",
        "import matplotlib.pyplot as plt"
      ]
    },
    {
      "cell_type": "code",
      "execution_count": null,
      "metadata": {
        "colab": {
          "base_uri": "https://localhost:8080/"
        },
        "id": "8jgZK_23X3lM",
        "outputId": "9651f625-36b2-4c69-e150-9e63c9029a69"
      },
      "outputs": [
        {
          "ename": "",
          "evalue": "",
          "output_type": "error",
          "traceback": [
            "\u001b[1;31mFailed to start the Kernel. \n",
            "\u001b[1;31mFileNotFoundError: [Errno 2] No such file or directory: '/content/water_dataX.csv'. \n",
            "\u001b[1;31mView Jupyter <a href='command:jupyter.viewOutput'>log</a> for further details."
          ]
        }
      ],
      "source": [
        "# Load the dataset\n",
        "csv_file_path = \"/content/water_dataX.csv\"\n",
        "data = pd.read_csv(csv_file_path, encoding=\"ISO-8859-1\")\n",
        "data.fillna(0, inplace=True)\n",
        "print(data.head())\n"
      ]
    },
    {
      "cell_type": "code",
      "execution_count": null,
      "metadata": {
        "id": "FiMXTaTaX3lM"
      },
      "outputs": [
        {
          "ename": "",
          "evalue": "",
          "output_type": "error",
          "traceback": [
            "\u001b[1;31mFailed to start the Kernel. \n",
            "\u001b[1;31mFileNotFoundError: [Errno 2] No such file or directory: '/content/water_dataX.csv'. \n",
            "\u001b[1;31mView Jupyter <a href='command:jupyter.viewOutput'>log</a> for further details."
          ]
        }
      ],
      "source": [
        "# Data preprocessing and feature engineering\n",
        "# Conversions\n",
        "data['Temp'] = pd.to_numeric(data['Temp'], errors='coerce')\n",
        "data['D.O. (mg/l)'] = pd.to_numeric(data['D.O. (mg/l)'], errors='coerce')\n",
        "data['PH'] = pd.to_numeric(data['PH'], errors='coerce')\n",
        "data['B.O.D. (mg/l)'] = pd.to_numeric(data['B.O.D. (mg/l)'], errors='coerce')\n",
        "data['CONDUCTIVITY (µmhos/cm)'] = pd.to_numeric(data['CONDUCTIVITY (µmhos/cm)'], errors='coerce')\n",
        "data['NITRATENAN N+ NITRITENANN (mg/l)'] = pd.to_numeric(data['NITRATENAN N+ NITRITENANN (mg/l)'], errors='coerce')\n",
        "data['TOTAL COLIFORM (MPN/100ml)Mean'] = pd.to_numeric(data['TOTAL COLIFORM (MPN/100ml)Mean'], errors='coerce')\n",
        "\n"
      ]
    },
    {
      "cell_type": "code",
      "execution_count": null,
      "metadata": {
        "colab": {
          "base_uri": "https://localhost:8080/"
        },
        "id": "sykG6J7JX3lN",
        "outputId": "5ccb562b-59e6-465f-87db-4d562483c1be"
      },
      "outputs": [
        {
          "ename": "",
          "evalue": "",
          "output_type": "error",
          "traceback": [
            "\u001b[1;31mFailed to start the Kernel. \n",
            "\u001b[1;31mFileNotFoundError: [Errno 2] No such file or directory: '/content/water_dataX.csv'. \n",
            "\u001b[1;31mView Jupyter <a href='command:jupyter.viewOutput'>log</a> for further details."
          ]
        }
      ],
      "source": [
        "#initialization\n",
        "start=2\n",
        "end=1779\n",
        "station=data.iloc [start:end ,0]\n",
        "location=data.iloc [start:end ,1]\n",
        "state=data.iloc [start:end ,2]\n",
        "do= data.iloc [start:end ,4].astype(np.float64)\n",
        "value=0\n",
        "ph = data.iloc[ start:end,5]\n",
        "co = data.iloc [start:end ,6].astype(np.float64)\n",
        "\n",
        "year=data.iloc[start:end,11]\n",
        "tc=data.iloc [2:end ,10].astype(np.float64)\n",
        "\n",
        "\n",
        "bod = data.iloc [start:end ,7].astype(np.float64)\n",
        "na= data.iloc [start:end ,8].astype(np.float64)\n",
        "na.dtype"
      ]
    },
    {
      "cell_type": "code",
      "execution_count": null,
      "metadata": {
        "colab": {
          "base_uri": "https://localhost:8080/",
          "height": 469
        },
        "id": "CjtlUy-Ge-m0",
        "outputId": "9a136712-8cc2-4b24-c4b6-9e7b83be8c5d"
      },
      "outputs": [
        {
          "ename": "",
          "evalue": "",
          "output_type": "error",
          "traceback": [
            "\u001b[1;31mFailed to start the Kernel. \n",
            "\u001b[1;31mFileNotFoundError: [Errno 2] No such file or directory: '/content/water_dataX.csv'. \n",
            "\u001b[1;31mView Jupyter <a href='command:jupyter.viewOutput'>log</a> for further details."
          ]
        }
      ],
      "source": [
        "data.head()"
      ]
    },
    {
      "cell_type": "code",
      "execution_count": null,
      "metadata": {
        "id": "jU0s3XT5X3lN"
      },
      "outputs": [
        {
          "ename": "",
          "evalue": "",
          "output_type": "error",
          "traceback": [
            "\u001b[1;31mFailed to start the Kernel. \n",
            "\u001b[1;31mFileNotFoundError: [Errno 2] No such file or directory: '/content/water_dataX.csv'. \n",
            "\u001b[1;31mView Jupyter <a href='command:jupyter.viewOutput'>log</a> for further details."
          ]
        }
      ],
      "source": [
        "data = pd.concat([station, location, state, do, ph, co, bod, na, tc, year], axis=1)\n",
        "data.columns = ['station', 'location', 'state', 'do', 'ph', 'co', 'bod', 'na', 'tc', 'year']\n"
      ]
    },
    {
      "cell_type": "code",
      "execution_count": null,
      "metadata": {
        "id": "WwMV7TczX3lO"
      },
      "outputs": [
        {
          "ename": "",
          "evalue": "",
          "output_type": "error",
          "traceback": [
            "\u001b[1;31mFailed to start the Kernel. \n",
            "\u001b[1;31mFileNotFoundError: [Errno 2] No such file or directory: '/content/water_dataX.csv'. \n",
            "\u001b[1;31mView Jupyter <a href='command:jupyter.viewOutput'>log</a> for further details."
          ]
        }
      ],
      "source": [
        "# Calculation of Ph\n",
        "data['npH'] = data.ph.apply(lambda x: (100 if (8.5 >= x >= 7)\n",
        "                                       else (80 if (8.6 >= x >= 8.5) or (6.9 >= x >= 6.8)\n",
        "                                             else (60 if (8.8 >= x >= 8.6) or (6.8 >= x >= 6.7)\n",
        "                                                   else (40 if (9 >= x >= 8.8) or (6.7 >= x >= 6.5)\n",
        "                                                         else 0)))))\n"
      ]
    },
    {
      "cell_type": "code",
      "execution_count": null,
      "metadata": {
        "id": "QtT2I_BbX3lO"
      },
      "outputs": [
        {
          "ename": "",
          "evalue": "",
          "output_type": "error",
          "traceback": [
            "\u001b[1;31mFailed to start the Kernel. \n",
            "\u001b[1;31mFileNotFoundError: [Errno 2] No such file or directory: '/content/water_dataX.csv'. \n",
            "\u001b[1;31mView Jupyter <a href='command:jupyter.viewOutput'>log</a> for further details."
          ]
        }
      ],
      "source": [
        "# Calculation of dissolved oxygen\n",
        "data['ndo'] = data.do.apply(lambda x: (100 if (x >= 6)\n",
        "                                       else (80 if (6 >= x >= 5.1)\n",
        "                                             else (60 if (5 >= x >= 4.1)\n",
        "                                                   else (40 if (4 >= x >= 3)\n",
        "                                                         else 0)))))\n"
      ]
    },
    {
      "cell_type": "code",
      "execution_count": null,
      "metadata": {
        "id": "naFvH8lzX3lO"
      },
      "outputs": [
        {
          "ename": "",
          "evalue": "",
          "output_type": "error",
          "traceback": [
            "\u001b[1;31mFailed to start the Kernel. \n",
            "\u001b[1;31mFileNotFoundError: [Errno 2] No such file or directory: '/content/water_dataX.csv'. \n",
            "\u001b[1;31mView Jupyter <a href='command:jupyter.viewOutput'>log</a> for further details."
          ]
        }
      ],
      "source": [
        "# Calculation of total coliform\n",
        "data['nco'] = data.tc.apply(lambda x: (100 if (5 >= x >= 0)\n",
        "                                       else (80 if (50 >= x >= 5)\n",
        "                                             else (60 if (500 >= x >= 50)\n",
        "                                                   else (40 if (10000 >= x >= 500)\n",
        "                                                         else 0)))))\n"
      ]
    },
    {
      "cell_type": "code",
      "execution_count": null,
      "metadata": {
        "id": "9NzZteyqX3lO"
      },
      "outputs": [
        {
          "ename": "",
          "evalue": "",
          "output_type": "error",
          "traceback": [
            "\u001b[1;31mFailed to start the Kernel. \n",
            "\u001b[1;31mFileNotFoundError: [Errno 2] No such file or directory: '/content/water_dataX.csv'. \n",
            "\u001b[1;31mView Jupyter <a href='command:jupyter.viewOutput'>log</a> for further details."
          ]
        }
      ],
      "source": [
        "# Calc of B.D.O\n",
        "data['nbdo'] = data.bod.apply(lambda x: (100 if (3 >= x >= 0)\n",
        "                                         else (80 if (6 >= x >= 3)\n",
        "                                               else (60 if (80 >= x >= 6)\n",
        "                                                     else (40 if (125 >= x >= 80)\n",
        "                                                           else 0)))))\n"
      ]
    },
    {
      "cell_type": "code",
      "execution_count": null,
      "metadata": {
        "id": "851RQ0b5X3lO"
      },
      "outputs": [
        {
          "ename": "",
          "evalue": "",
          "output_type": "error",
          "traceback": [
            "\u001b[1;31mFailed to start the Kernel. \n",
            "\u001b[1;31mFileNotFoundError: [Errno 2] No such file or directory: '/content/water_dataX.csv'. \n",
            "\u001b[1;31mView Jupyter <a href='command:jupyter.viewOutput'>log</a> for further details."
          ]
        }
      ],
      "source": [
        "# Calculation of electrical conductivity\n",
        "data['nec'] = data.co.apply(lambda x: (100 if (75 >= x >= 0)\n",
        "                                       else (80 if (150 >= x >= 75)\n",
        "                                             else (60 if (225 >= x >= 150)\n",
        "                                                   else (40 if (300 >= x >= 225)\n",
        "                                                         else 0)))))\n",
        "\n"
      ]
    },
    {
      "cell_type": "code",
      "execution_count": null,
      "metadata": {
        "id": "PUSYjT_EX3lP"
      },
      "outputs": [
        {
          "ename": "",
          "evalue": "",
          "output_type": "error",
          "traceback": [
            "\u001b[1;31mFailed to start the Kernel. \n",
            "\u001b[1;31mFileNotFoundError: [Errno 2] No such file or directory: '/content/water_dataX.csv'. \n",
            "\u001b[1;31mView Jupyter <a href='command:jupyter.viewOutput'>log</a> for further details."
          ]
        }
      ],
      "source": [
        "# Calulation of nitrate\n",
        "data['nna'] = data.na.apply(lambda x: (100 if (20 >= x >= 0)\n",
        "                                       else (80 if (50 >= x >= 20)\n",
        "                                             else (60 if (100 >= x >= 50)\n",
        "                                                   else (40 if (200 >= x >= 100)\n",
        "                                                         else 0)))))\n"
      ]
    },
    {
      "cell_type": "code",
      "execution_count": null,
      "metadata": {
        "colab": {
          "base_uri": "https://localhost:8080/"
        },
        "id": "ibCb2-15fBd9",
        "outputId": "c7c9d063-7b06-4cb6-d2ac-1f4024b4cac0"
      },
      "outputs": [
        {
          "ename": "",
          "evalue": "",
          "output_type": "error",
          "traceback": [
            "\u001b[1;31mFailed to start the Kernel. \n",
            "\u001b[1;31mFileNotFoundError: [Errno 2] No such file or directory: '/content/water_dataX.csv'. \n",
            "\u001b[1;31mView Jupyter <a href='command:jupyter.viewOutput'>log</a> for further details."
          ]
        }
      ],
      "source": [
        "data.head()\n",
        "data.dtypes"
      ]
    },
    {
      "cell_type": "code",
      "execution_count": null,
      "metadata": {
        "colab": {
          "base_uri": "https://localhost:8080/",
          "height": 756
        },
        "id": "D1eeyupvX3lP",
        "outputId": "220279f5-5dc2-47f7-bf51-92e6a8b59dd0"
      },
      "outputs": [
        {
          "ename": "",
          "evalue": "",
          "output_type": "error",
          "traceback": [
            "\u001b[1;31mFailed to start the Kernel. \n",
            "\u001b[1;31mFileNotFoundError: [Errno 2] No such file or directory: '/content/water_dataX.csv'. \n",
            "\u001b[1;31mView Jupyter <a href='command:jupyter.viewOutput'>log</a> for further details."
          ]
        }
      ],
      "source": [
        "data['wph']=data.npH * 0.165\n",
        "data['wdo']=data.ndo * 0.281\n",
        "data['wbdo']=data.nbdo * 0.234\n",
        "data['wec']=data.nec* 0.009\n",
        "data['wna']=data.nna * 0.028\n",
        "data['wco']=data.nco * 0.281\n",
        "data['wqi']=data.wph+data.wdo+data.wbdo+data.wec+data.wna+data.wco\n",
        "data\n"
      ]
    },
    {
      "cell_type": "code",
      "execution_count": null,
      "metadata": {
        "colab": {
          "base_uri": "https://localhost:8080/",
          "height": 332
        },
        "id": "oftr_JfOX3lP",
        "outputId": "e94fd3d1-aa78-4253-9731-31a1a46d6116"
      },
      "outputs": [
        {
          "ename": "",
          "evalue": "",
          "output_type": "error",
          "traceback": [
            "\u001b[1;31mFailed to start the Kernel. \n",
            "\u001b[1;31mFileNotFoundError: [Errno 2] No such file or directory: '/content/water_dataX.csv'. \n",
            "\u001b[1;31mView Jupyter <a href='command:jupyter.viewOutput'>log</a> for further details."
          ]
        }
      ],
      "source": [
        "#calculation overall wqi for each year\n",
        "ag=data.groupby('year')['wqi'].mean()\n",
        "data = ag.reset_index(level=0, inplace=False)\n",
        "ag\n",
        "data"
      ]
    },
    {
      "cell_type": "code",
      "execution_count": null,
      "metadata": {
        "id": "a8EPNhE1X3lP"
      },
      "outputs": [
        {
          "ename": "",
          "evalue": "",
          "output_type": "error",
          "traceback": [
            "\u001b[1;31mFailed to start the Kernel. \n",
            "\u001b[1;31mFileNotFoundError: [Errno 2] No such file or directory: '/content/water_dataX.csv'. \n",
            "\u001b[1;31mView Jupyter <a href='command:jupyter.viewOutput'>log</a> for further details."
          ]
        }
      ],
      "source": [
        "# Visualizing the filtered data\n",
        "year = data['year'].values\n",
        "AQI = data['wqi'].values\n",
        "data['wqi'] = pd.to_numeric(data['wqi'], errors='coerce')\n",
        "data['year'] = pd.to_numeric(data['year'], errors='coerce')\n"
      ]
    },
    {
      "cell_type": "code",
      "execution_count": null,
      "metadata": {
        "colab": {
          "base_uri": "https://localhost:8080/",
          "height": 349
        },
        "id": "nI13a6qtX3lP",
        "outputId": "0b51c11f-8184-4b67-89ee-b26d858c980b"
      },
      "outputs": [
        {
          "ename": "",
          "evalue": "",
          "output_type": "error",
          "traceback": [
            "\u001b[1;31mFailed to start the Kernel. \n",
            "\u001b[1;31mFileNotFoundError: [Errno 2] No such file or directory: '/content/water_dataX.csv'. \n",
            "\u001b[1;31mView Jupyter <a href='command:jupyter.viewOutput'>log</a> for further details."
          ]
        }
      ],
      "source": [
        "plt.rcParams['figure.figsize'] = (20.0, 10.0)\n",
        "fig = plt.figure()\n",
        "ax = Axes3D(fig)\n",
        "ax.scatter(year,AQI, color='red')\n",
        "plt.show()\n",
        "data"
      ]
    },
    {
      "cell_type": "code",
      "execution_count": null,
      "metadata": {
        "id": "oqw9tqoyX3lQ"
      },
      "outputs": [
        {
          "ename": "",
          "evalue": "",
          "output_type": "error",
          "traceback": [
            "\u001b[1;31mFailed to start the Kernel. \n",
            "\u001b[1;31mFileNotFoundError: [Errno 2] No such file or directory: '/content/water_dataX.csv'. \n",
            "\u001b[1;31mView Jupyter <a href='command:jupyter.viewOutput'>log</a> for further details."
          ]
        }
      ],
      "source": [
        "# Scatter plot of data points\n",
        "cols = ['year']"
      ]
    },
    {
      "cell_type": "code",
      "execution_count": null,
      "metadata": {
        "id": "eclzGY2SX3lQ"
      },
      "outputs": [
        {
          "ename": "",
          "evalue": "",
          "output_type": "error",
          "traceback": [
            "\u001b[1;31mFailed to start the Kernel. \n",
            "\u001b[1;31mFileNotFoundError: [Errno 2] No such file or directory: '/content/water_dataX.csv'. \n",
            "\u001b[1;31mView Jupyter <a href='command:jupyter.viewOutput'>log</a> for further details."
          ]
        }
      ],
      "source": [
        "y = data['wqi']\n",
        "x = data[cols]\n"
      ]
    },
    {
      "cell_type": "code",
      "execution_count": null,
      "metadata": {
        "colab": {
          "base_uri": "https://localhost:8080/",
          "height": 475
        },
        "id": "7BegkAGhX3lQ",
        "outputId": "2e717bf7-2094-4ed2-b088-5d3978cb009f"
      },
      "outputs": [
        {
          "ename": "",
          "evalue": "",
          "output_type": "error",
          "traceback": [
            "\u001b[1;31mFailed to start the Kernel. \n",
            "\u001b[1;31mFileNotFoundError: [Errno 2] No such file or directory: '/content/water_dataX.csv'. \n",
            "\u001b[1;31mView Jupyter <a href='command:jupyter.viewOutput'>log</a> for further details."
          ]
        }
      ],
      "source": [
        "plt.scatter(x, y)\n",
        "plt.show()"
      ]
    },
    {
      "cell_type": "code",
      "execution_count": null,
      "metadata": {
        "colab": {
          "base_uri": "https://localhost:8080/",
          "height": 408
        },
        "id": "Vwxmw9rAX3lQ",
        "outputId": "7d603a23-c863-4a5d-cbf9-1b3c84df3c30"
      },
      "outputs": [
        {
          "ename": "",
          "evalue": "",
          "output_type": "error",
          "traceback": [
            "\u001b[1;31mFailed to start the Kernel. \n",
            "\u001b[1;31mFileNotFoundError: [Errno 2] No such file or directory: '/content/water_dataX.csv'. \n",
            "\u001b[1;31mView Jupyter <a href='command:jupyter.viewOutput'>log</a> for further details."
          ]
        }
      ],
      "source": [
        "data = data.set_index('year')\n",
        "data.plot(figsize=(15, 6))\n",
        "plt.show()"
      ]
    },
    {
      "cell_type": "code",
      "execution_count": null,
      "metadata": {
        "colab": {
          "base_uri": "https://localhost:8080/",
          "height": 332
        },
        "id": "nKwwjBTrX3lQ",
        "outputId": "258b713a-c9ee-4e57-8e1f-c6c939bfe3e8"
      },
      "outputs": [
        {
          "ename": "",
          "evalue": "",
          "output_type": "error",
          "traceback": [
            "\u001b[1;31mFailed to start the Kernel. \n",
            "\u001b[1;31mFileNotFoundError: [Errno 2] No such file or directory: '/content/water_dataX.csv'. \n",
            "\u001b[1;31mView Jupyter <a href='command:jupyter.viewOutput'>log</a> for further details."
          ]
        }
      ],
      "source": [
        "data = data.reset_index(level=0, inplace=False)\n",
        "data"
      ]
    },
    {
      "cell_type": "code",
      "execution_count": null,
      "metadata": {
        "id": "TAlr1vDEX3lQ"
      },
      "outputs": [
        {
          "ename": "",
          "evalue": "",
          "output_type": "error",
          "traceback": [
            "\u001b[1;31mFailed to start the Kernel. \n",
            "\u001b[1;31mFileNotFoundError: [Errno 2] No such file or directory: '/content/water_dataX.csv'. \n",
            "\u001b[1;31mView Jupyter <a href='command:jupyter.viewOutput'>log</a> for further details."
          ]
        }
      ],
      "source": [
        "# Using linear regression to predict\n",
        "cols = ['year']\n",
        "y = data['wqi']\n",
        "x = data[cols]"
      ]
    },
    {
      "cell_type": "code",
      "execution_count": null,
      "metadata": {
        "id": "7hvYKD-zX3lQ"
      },
      "outputs": [
        {
          "ename": "",
          "evalue": "",
          "output_type": "error",
          "traceback": [
            "\u001b[1;31mFailed to start the Kernel. \n",
            "\u001b[1;31mFileNotFoundError: [Errno 2] No such file or directory: '/content/water_dataX.csv'. \n",
            "\u001b[1;31mView Jupyter <a href='command:jupyter.viewOutput'>log</a> for further details."
          ]
        }
      ],
      "source": [
        "reg = LinearRegression()\n",
        "x_train, x_test, y_train, y_test = train_test_split(x, y, test_size=0.2, random_state=4)\n"
      ]
    },
    {
      "cell_type": "code",
      "execution_count": null,
      "metadata": {
        "colab": {
          "base_uri": "https://localhost:8080/"
        },
        "id": "_xje34GWX3lQ",
        "outputId": "f70f4bd6-1047-4d4a-a298-992ae3e8167c"
      },
      "outputs": [
        {
          "ename": "",
          "evalue": "",
          "output_type": "error",
          "traceback": [
            "\u001b[1;31mFailed to start the Kernel. \n",
            "\u001b[1;31mFileNotFoundError: [Errno 2] No such file or directory: '/content/water_dataX.csv'. \n",
            "\u001b[1;31mView Jupyter <a href='command:jupyter.viewOutput'>log</a> for further details."
          ]
        }
      ],
      "source": [
        "# Linear Regression\n",
        "reg_linear = LinearRegression()\n",
        "reg_linear.fit(x_train, y_train)\n",
        "y_pred_linear = reg_linear.predict(x_test)\n",
        "mse_linear = mean_squared_error(y_test, y_pred_linear)\n",
        "rmse_linear = np.sqrt(mse_linear)\n",
        "mae_linear = mean_absolute_error(y_test, y_pred_linear)\n",
        "\n",
        "print('Linear Regression Metrics:')\n",
        "print('MSE:', mse_linear)\n",
        "print('RMSE:', rmse_linear)\n",
        "print('MAE:', mae_linear)"
      ]
    },
    {
      "cell_type": "code",
      "execution_count": null,
      "metadata": {
        "colab": {
          "base_uri": "https://localhost:8080/"
        },
        "id": "t0gFrTpPX3lR",
        "outputId": "d3eeedf3-ba82-47c9-d482-1296c7c1a008"
      },
      "outputs": [
        {
          "ename": "",
          "evalue": "",
          "output_type": "error",
          "traceback": [
            "\u001b[1;31mFailed to start the Kernel. \n",
            "\u001b[1;31mFileNotFoundError: [Errno 2] No such file or directory: '/content/water_dataX.csv'. \n",
            "\u001b[1;31mView Jupyter <a href='command:jupyter.viewOutput'>log</a> for further details."
          ]
        }
      ],
      "source": [
        "# Decision Tree\n",
        "reg_tree = DecisionTreeRegressor()\n",
        "reg_tree.fit(x_train, y_train)\n",
        "y_pred_tree = reg_tree.predict(x_test)\n",
        "mse_tree = mean_squared_error(y_test, y_pred_tree)\n",
        "rmse_tree = np.sqrt(mse_tree)\n",
        "mae_tree = mean_absolute_error(y_test, y_pred_tree)\n",
        "\n",
        "print('\\nDecision Tree Metrics:')\n",
        "print('MSE:', mse_tree)\n",
        "print('RMSE:', rmse_tree)\n",
        "print('MAE:', mae_tree)"
      ]
    },
    {
      "cell_type": "code",
      "execution_count": null,
      "metadata": {
        "colab": {
          "base_uri": "https://localhost:8080/"
        },
        "id": "XC9JGfZMX3lR",
        "outputId": "36aa7b8d-1e1a-4938-9621-1b44c558e155"
      },
      "outputs": [
        {
          "ename": "",
          "evalue": "",
          "output_type": "error",
          "traceback": [
            "\u001b[1;31mFailed to start the Kernel. \n",
            "\u001b[1;31mFileNotFoundError: [Errno 2] No such file or directory: '/content/water_dataX.csv'. \n",
            "\u001b[1;31mView Jupyter <a href='command:jupyter.viewOutput'>log</a> for further details."
          ]
        }
      ],
      "source": [
        "# Random Forest\n",
        "reg_rf = RandomForestRegressor()\n",
        "reg_rf.fit(x_train, y_train)\n",
        "y_pred_rf = reg_rf.predict(x_test)\n",
        "mse_rf = mean_squared_error(y_test, y_pred_rf)\n",
        "rmse_rf = np.sqrt(mse_rf)\n",
        "mae_rf = mean_absolute_error(y_test, y_pred_rf)\n",
        "\n",
        "print('\\nRandom Forest Metrics:')\n",
        "print('MSE:', mse_rf)\n",
        "print('RMSE:', rmse_rf)\n",
        "print('MAE:', mae_rf)"
      ]
    },
    {
      "cell_type": "code",
      "execution_count": null,
      "metadata": {
        "colab": {
          "base_uri": "https://localhost:8080/"
        },
        "id": "QSHXzrH7X3lR",
        "outputId": "93644959-22df-425a-95c5-a9d7213d971e"
      },
      "outputs": [
        {
          "ename": "",
          "evalue": "",
          "output_type": "error",
          "traceback": [
            "\u001b[1;31mFailed to start the Kernel. \n",
            "\u001b[1;31mFileNotFoundError: [Errno 2] No such file or directory: '/content/water_dataX.csv'. \n",
            "\u001b[1;31mView Jupyter <a href='command:jupyter.viewOutput'>log</a> for further details."
          ]
        }
      ],
      "source": [
        "# Support Vector Machine (SVM)\n",
        "reg_svm = SVR()\n",
        "reg_svm.fit(x_train, y_train)\n",
        "y_pred_svm = reg_svm.predict(x_test)\n",
        "mse_svm = mean_squared_error(y_test, y_pred_svm)\n",
        "rmse_svm = np.sqrt(mse_svm)\n",
        "mae_svm = mean_absolute_error(y_test, y_pred_svm)\n",
        "\n",
        "print('\\nSVM Metrics:')\n",
        "print('MSE:', mse_svm)\n",
        "print('RMSE:', rmse_svm)\n",
        "print('MAE:', mae_svm)"
      ]
    },
    {
      "cell_type": "code",
      "execution_count": null,
      "metadata": {
        "colab": {
          "base_uri": "https://localhost:8080/"
        },
        "id": "qIR3_tmGX3lR",
        "outputId": "3de1e156-fb8e-4dad-bfe2-2c59c94324bf"
      },
      "outputs": [
        {
          "ename": "",
          "evalue": "",
          "output_type": "error",
          "traceback": [
            "\u001b[1;31mFailed to start the Kernel. \n",
            "\u001b[1;31mFileNotFoundError: [Errno 2] No such file or directory: '/content/water_dataX.csv'. \n",
            "\u001b[1;31mView Jupyter <a href='command:jupyter.viewOutput'>log</a> for further details."
          ]
        }
      ],
      "source": [
        "#using gradient descent to optimize it further\n",
        "x = (x - x.mean()) / x.std()\n",
        "x = np.c_[np.ones(x.shape[0]), x]\n",
        "x"
      ]
    },
    {
      "cell_type": "code",
      "execution_count": null,
      "metadata": {
        "id": "V17RCFKVX3lR"
      },
      "outputs": [
        {
          "ename": "",
          "evalue": "",
          "output_type": "error",
          "traceback": [
            "\u001b[1;31mFailed to start the Kernel. \n",
            "\u001b[1;31mFileNotFoundError: [Errno 2] No such file or directory: '/content/water_dataX.csv'. \n",
            "\u001b[1;31mView Jupyter <a href='command:jupyter.viewOutput'>log</a> for further details."
          ]
        }
      ],
      "source": [
        "alpha = 0.1 #Step size\n",
        "iterations = 3000 #No. of iterations\n",
        "m = y.size #No. of data points\n",
        "np.random.seed(4) #Setting the seed\n",
        "theta = np.random.rand(2) #Picking some random values to start with\n",
        "\n",
        "def gradient_descent(x, y, theta, iterations, alpha):\n",
        "    past_costs = []\n",
        "    past_thetas = [theta]\n",
        "    for i in range(iterations):\n",
        "        prediction = np.dot(x, theta)\n",
        "        error = prediction - y\n",
        "        cost = 1/(2*m) * np.dot(error.T, error)\n",
        "        past_costs.append(cost)\n",
        "        theta = theta - (alpha * (1/m) * np.dot(x.T, error))\n",
        "        past_thetas.append(theta)\n",
        "\n",
        "    return past_thetas, past_costs\n",
        "\n",
        "past_thetas, past_costs = gradient_descent(x, y, theta, iterations, alpha)\n",
        "theta = past_thetas[-1]\n"
      ]
    },
    {
      "cell_type": "code",
      "execution_count": null,
      "metadata": {
        "colab": {
          "base_uri": "https://localhost:8080/"
        },
        "id": "0vYKP8XmX3lR",
        "outputId": "4b4727b0-68dc-49ae-9d85-f378bbf7befc"
      },
      "outputs": [
        {
          "ename": "",
          "evalue": "",
          "output_type": "error",
          "traceback": [
            "\u001b[1;31mFailed to start the Kernel. \n",
            "\u001b[1;31mFileNotFoundError: [Errno 2] No such file or directory: '/content/water_dataX.csv'. \n",
            "\u001b[1;31mView Jupyter <a href='command:jupyter.viewOutput'>log</a> for further details."
          ]
        }
      ],
      "source": [
        "# Print the results...\n",
        "print(\"Gradient Descent: {:.2f}, {:.2f}\".format(theta[0], theta[1]))\n"
      ]
    },
    {
      "cell_type": "code",
      "execution_count": null,
      "metadata": {
        "colab": {
          "base_uri": "https://localhost:8080/",
          "height": 488
        },
        "id": "pEcxCfNhX3lR",
        "outputId": "8e0c0d7d-f740-411b-8b53-0e54f4b64682"
      },
      "outputs": [
        {
          "ename": "",
          "evalue": "",
          "output_type": "error",
          "traceback": [
            "\u001b[1;31mFailed to start the Kernel. \n",
            "\u001b[1;31mFileNotFoundError: [Errno 2] No such file or directory: '/content/water_dataX.csv'. \n",
            "\u001b[1;31mView Jupyter <a href='command:jupyter.viewOutput'>log</a> for further details."
          ]
        }
      ],
      "source": [
        "# Plotting the cost function\n",
        "plt.title('Cost Function J')\n",
        "plt.xlabel('No. of iterations')\n",
        "plt.ylabel('Cost')\n",
        "plt.plot(past_costs)\n",
        "plt.show()"
      ]
    },
    {
      "cell_type": "code",
      "execution_count": null,
      "metadata": {
        "colab": {
          "base_uri": "https://localhost:8080/",
          "height": 332
        },
        "id": "WHUZM5AaX3lS",
        "outputId": "5978be6e-4fe1-4ebe-b98b-6887ea3ed0ef"
      },
      "outputs": [
        {
          "ename": "",
          "evalue": "",
          "output_type": "error",
          "traceback": [
            "\u001b[1;31mFailed to start the Kernel. \n",
            "\u001b[1;31mFileNotFoundError: [Errno 2] No such file or directory: '/content/water_dataX.csv'. \n",
            "\u001b[1;31mView Jupyter <a href='command:jupyter.viewOutput'>log</a> for further details."
          ]
        }
      ],
      "source": [
        "#prediction of january(2013-2015) across india\n",
        "import numpy as np\n",
        "newB=[74.76, 2.13]\n",
        "\n",
        "def rmse(y,y_pred):\n",
        "    rmse= np.sqrt(sum(y-y_pred))\n",
        "    return rmse\n",
        "\n",
        "\n",
        "y_pred=x.dot(newB)\n",
        "\n",
        "dt = pd.DataFrame({'Actual': y, 'Predicted': y_pred})\n",
        "dt=pd.concat([data, dt], axis=1)\n",
        "dt"
      ]
    },
    {
      "cell_type": "code",
      "execution_count": null,
      "metadata": {
        "colab": {
          "base_uri": "https://localhost:8080/",
          "height": 564
        },
        "id": "bhmHZA_OkH29",
        "outputId": "c1584a10-90a5-4d3a-c055-6d1cc5d63bad"
      },
      "outputs": [
        {
          "ename": "",
          "evalue": "",
          "output_type": "error",
          "traceback": [
            "\u001b[1;31mFailed to start the Kernel. \n",
            "\u001b[1;31mFileNotFoundError: [Errno 2] No such file or directory: '/content/water_dataX.csv'. \n",
            "\u001b[1;31mView Jupyter <a href='command:jupyter.viewOutput'>log</a> for further details."
          ]
        }
      ],
      "source": [
        "plt.figure(figsize=(10, 6))\n",
        "plt.scatter(dt['year'], dt['Actual'], label='Actual', color='blue')\n",
        "plt.scatter(dt['year'], dt['Predicted'], label='Predicted', color='red')\n",
        "plt.title('Actual vs Predicted Water Quality Index (WQI)')\n",
        "plt.xlabel('Year')\n",
        "plt.ylabel('WQI')\n",
        "plt.legend()\n",
        "plt.grid(True)\n",
        "plt.show()"
      ]
    },
    {
      "cell_type": "code",
      "execution_count": null,
      "metadata": {
        "colab": {
          "base_uri": "https://localhost:8080/",
          "height": 485
        },
        "id": "73gJoFLBX3lS",
        "outputId": "d4a909ee-fe51-46d4-e6f0-ba6208b82b7f"
      },
      "outputs": [
        {
          "ename": "",
          "evalue": "",
          "output_type": "error",
          "traceback": [
            "\u001b[1;31mFailed to start the Kernel. \n",
            "\u001b[1;31mFileNotFoundError: [Errno 2] No such file or directory: '/content/water_dataX.csv'. \n",
            "\u001b[1;31mView Jupyter <a href='command:jupyter.viewOutput'>log</a> for further details."
          ]
        }
      ],
      "source": [
        "# Visualization\n",
        "plt.scatter(x_test.index, y_test, label='Actual')\n",
        "plt.plot(x_test.index, y_pred_linear, label='Linear Regression', color='r')\n",
        "plt.plot(x_test.index, y_pred_tree, label='Decision Tree', color='g')\n",
        "plt.plot(x_test.index, y_pred_rf, label='Random Forest', color='b')\n",
        "plt.plot(x_test.index, y_pred_svm, label='SVM', color='purple')\n",
        "plt.legend()\n",
        "plt.title('Model Predictions vs Actual WQI Values')\n",
        "plt.show()"
      ]
    },
    {
      "cell_type": "code",
      "execution_count": null,
      "metadata": {},
      "outputs": [
        {
          "ename": "",
          "evalue": "",
          "output_type": "error",
          "traceback": [
            "\u001b[1;31mFailed to start the Kernel. \n",
            "\u001b[1;31mFileNotFoundError: [Errno 2] No such file or directory: '/content/water_dataX.csv'. \n",
            "\u001b[1;31mView Jupyter <a href='command:jupyter.viewOutput'>log</a> for further details."
          ]
        }
      ],
      "source": [
        "# Print Evaluation Metrics\n",
        "print('Linear Regression Metrics:')\n",
        "print('MSE:', mse_linear)\n",
        "print('RMSE:', rmse_linear)\n",
        "print('MAE:', mae_linear)\n",
        "\n",
        "# Visualize Actual vs. Predicted Values\n",
        "plt.scatter(y_test, y_pred_linear)\n",
        "plt.xlabel('Actual')\n",
        "plt.ylabel('Predicted')\n",
        "plt.title('Actual vs. Predicted Values (Linear Regression)')\n",
        "plt.show()\n",
        "\n",
        "# Plot Model Predictions\n",
        "plt.plot(x_test, y_test, label='Actual')\n",
        "plt.plot(x_test, y_pred_linear, label='Predicted', color='red')\n",
        "plt.xlabel('Input Features')\n",
        "plt.ylabel('Target Variable')\n",
        "plt.title('Model Predictions (Linear Regression)')\n",
        "plt.legend()\n",
        "plt.show()\n",
        "\n",
        "# Plot Residuals\n",
        "residuals = y_test - y_pred_linear\n",
        "plt.scatter(y_pred_linear, residuals)\n",
        "plt.xlabel('Predicted')\n",
        "plt.ylabel('Residuals')\n",
        "plt.title('Residuals Plot (Linear Regression)')\n",
        "plt.axhline(y=0, color='black', linestyle='--')\n",
        "plt.show()\n",
        "\n",
        "# Compare Models\n",
        "plt.scatter(x_test, y_test, label='Actual', color='blue')\n",
        "plt.scatter(x_test, y_pred_linear, label='Linear Regression', color='red')\n",
        "plt.scatter(x_test, y_pred_tree, label='Decision Tree', color='green')\n",
        "plt.scatter(x_test, y_pred_rf, label='Random Forest', color='orange')\n",
        "plt.scatter(x_test, y_pred_svm, label='SVM', color='purple')\n",
        "plt.xlabel('Input Features')\n",
        "plt.ylabel('Target Variable')\n",
        "plt.title('Model Comparisons')\n",
        "plt.legend()\n",
        "plt.show()\n",
        "k"
      ]
    }
  ],
  "metadata": {
    "colab": {
      "provenance": []
    },
    "kernelspec": {
      "display_name": "Python 3",
      "language": "python",
      "name": "python3"
    },
    "language_info": {
      "name": "python",
      "version": "3.9.13"
    }
  },
  "nbformat": 4,
  "nbformat_minor": 0
}
